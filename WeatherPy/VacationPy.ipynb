{
 "cells": [
  {
   "cell_type": "markdown",
   "metadata": {},
   "source": [
    "# VacationPy\n",
    "----\n",
    "\n",
    "#### Note\n",
    "* Keep an eye on your API usage. Use https://developers.google.com/maps/reporting/gmp-reporting as reference for how to monitor your usage and billing.\n",
    "\n",
    "* Instructions have been included for each segment. You do not have to follow them exactly, but they are included to help you think through the steps."
   ]
  },
  {
   "cell_type": "code",
   "execution_count": 1,
   "metadata": {},
   "outputs": [],
   "source": [
    "# Dependencies and Setup\n",
    "import matplotlib.pyplot as plt\n",
    "import pandas as pd\n",
    "import numpy as np\n",
    "import requests\n",
    "import gmaps\n",
    "import os\n",
    "\n",
    "# Import API key\n",
    "from api_keys import g_key"
   ]
  },
  {
   "cell_type": "markdown",
   "metadata": {},
   "source": [
    "### Store Part I results into DataFrame\n",
    "* Load the csv exported in Part I to a DataFrame"
   ]
  },
  {
   "cell_type": "code",
   "execution_count": 2,
   "metadata": {},
   "outputs": [
    {
     "data": {
      "text/html": [
       "<div>\n",
       "<style scoped>\n",
       "    .dataframe tbody tr th:only-of-type {\n",
       "        vertical-align: middle;\n",
       "    }\n",
       "\n",
       "    .dataframe tbody tr th {\n",
       "        vertical-align: top;\n",
       "    }\n",
       "\n",
       "    .dataframe thead th {\n",
       "        text-align: right;\n",
       "    }\n",
       "</style>\n",
       "<table border=\"1\" class=\"dataframe\">\n",
       "  <thead>\n",
       "    <tr style=\"text-align: right;\">\n",
       "      <th></th>\n",
       "      <th>City_ID</th>\n",
       "      <th>City</th>\n",
       "      <th>Cloudiness (%)</th>\n",
       "      <th>Country</th>\n",
       "      <th>Date</th>\n",
       "      <th>Humidity (%)</th>\n",
       "      <th>Lat</th>\n",
       "      <th>Lng</th>\n",
       "      <th>Max Temperature (F)</th>\n",
       "      <th>Wind Speed (mph)</th>\n",
       "    </tr>\n",
       "  </thead>\n",
       "  <tbody>\n",
       "    <tr>\n",
       "      <th>0</th>\n",
       "      <td>0</td>\n",
       "      <td>ostrovnoy</td>\n",
       "      <td>2</td>\n",
       "      <td>RU</td>\n",
       "      <td>1558378754</td>\n",
       "      <td>72</td>\n",
       "      <td>68.05</td>\n",
       "      <td>39.51</td>\n",
       "      <td>37.50</td>\n",
       "      <td>7.16</td>\n",
       "    </tr>\n",
       "    <tr>\n",
       "      <th>1</th>\n",
       "      <td>1</td>\n",
       "      <td>mahebourg</td>\n",
       "      <td>75</td>\n",
       "      <td>MU</td>\n",
       "      <td>1558378503</td>\n",
       "      <td>74</td>\n",
       "      <td>-20.41</td>\n",
       "      <td>57.70</td>\n",
       "      <td>78.80</td>\n",
       "      <td>11.41</td>\n",
       "    </tr>\n",
       "    <tr>\n",
       "      <th>2</th>\n",
       "      <td>2</td>\n",
       "      <td>qaanaaq</td>\n",
       "      <td>25</td>\n",
       "      <td>GL</td>\n",
       "      <td>1558378755</td>\n",
       "      <td>73</td>\n",
       "      <td>77.48</td>\n",
       "      <td>-69.36</td>\n",
       "      <td>22.20</td>\n",
       "      <td>2.37</td>\n",
       "    </tr>\n",
       "    <tr>\n",
       "      <th>3</th>\n",
       "      <td>3</td>\n",
       "      <td>zhuhai</td>\n",
       "      <td>0</td>\n",
       "      <td>CN</td>\n",
       "      <td>1558378755</td>\n",
       "      <td>39</td>\n",
       "      <td>40.71</td>\n",
       "      <td>112.04</td>\n",
       "      <td>44.60</td>\n",
       "      <td>4.47</td>\n",
       "    </tr>\n",
       "    <tr>\n",
       "      <th>4</th>\n",
       "      <td>4</td>\n",
       "      <td>cape town</td>\n",
       "      <td>20</td>\n",
       "      <td>ZA</td>\n",
       "      <td>1558378755</td>\n",
       "      <td>76</td>\n",
       "      <td>-33.93</td>\n",
       "      <td>18.42</td>\n",
       "      <td>55.99</td>\n",
       "      <td>8.05</td>\n",
       "    </tr>\n",
       "  </tbody>\n",
       "</table>\n",
       "</div>"
      ],
      "text/plain": [
       "   City_ID       City  Cloudiness (%) Country        Date  Humidity (%)  \\\n",
       "0        0  ostrovnoy               2      RU  1558378754            72   \n",
       "1        1  mahebourg              75      MU  1558378503            74   \n",
       "2        2    qaanaaq              25      GL  1558378755            73   \n",
       "3        3     zhuhai               0      CN  1558378755            39   \n",
       "4        4  cape town              20      ZA  1558378755            76   \n",
       "\n",
       "     Lat     Lng  Max Temperature (F)  Wind Speed (mph)  \n",
       "0  68.05   39.51                37.50              7.16  \n",
       "1 -20.41   57.70                78.80             11.41  \n",
       "2  77.48  -69.36                22.20              2.37  \n",
       "3  40.71  112.04                44.60              4.47  \n",
       "4 -33.93   18.42                55.99              8.05  "
      ]
     },
     "execution_count": 2,
     "metadata": {},
     "output_type": "execute_result"
    }
   ],
   "source": [
    "file_to_load='../output_data/cities.csv'\n",
    "\n",
    "\n",
    "city_data=pd.read_csv(file_to_load)\n",
    "city_data.head()"
   ]
  },
  {
   "cell_type": "markdown",
   "metadata": {},
   "source": [
    "### Humidity Heatmap\n",
    "* Configure gmaps.\n",
    "* Use the Lat and Lng as locations and Humidity as the weight.\n",
    "* Add Heatmap layer to map."
   ]
  },
  {
   "cell_type": "code",
   "execution_count": 3,
   "metadata": {},
   "outputs": [
    {
     "data": {
      "text/plain": [
       "290"
      ]
     },
     "execution_count": 3,
     "metadata": {},
     "output_type": "execute_result"
    }
   ],
   "source": [
    "max_hum=city_data['Humidity (%)'].max()\n",
    "max_hum"
   ]
  },
  {
   "cell_type": "code",
   "execution_count": 4,
   "metadata": {},
   "outputs": [],
   "source": [
    "# Configure gmaps with API key:\n",
    "gmaps.configure(api_key=g_key)"
   ]
  },
  {
   "cell_type": "code",
   "execution_count": 5,
   "metadata": {},
   "outputs": [],
   "source": [
    "# Store 'Lat' and 'Lng' into  locations: \n",
    "city_data=city_data.dropna() # drop NaN values\n",
    "locations=city_data[['Lat', 'Lng']].astype(float)\n",
    "\n",
    "# Convert humidity level to float and store:\n",
    "humidity_rate=city_data[\"Humidity (%)\"].astype(float)\n"
   ]
  },
  {
   "cell_type": "code",
   "execution_count": 6,
   "metadata": {},
   "outputs": [
    {
     "data": {
      "application/vnd.jupyter.widget-view+json": {
       "model_id": "be7b8325b0854df7a7377d6355cfa88a",
       "version_major": 2,
       "version_minor": 0
      },
      "text/plain": [
       "Figure(layout=FigureLayout(height='420px'))"
      ]
     },
     "metadata": {},
     "output_type": "display_data"
    }
   ],
   "source": [
    "fig=gmaps.figure()\n",
    "\n",
    "heat_layer=gmaps.heatmap_layer(locations, weights=humidity_rate, \n",
    "                                 dissipating=False, max_intensity=290,\n",
    "                                 point_radius=3)\n",
    "\n",
    "fig.add_layer(heat_layer)\n",
    "fig"
   ]
  },
  {
   "cell_type": "markdown",
   "metadata": {},
   "source": [
    "### Create new DataFrame fitting weather criteria\n",
    "* Narrow down the cities to fit weather conditions.\n",
    "* Drop any rows will null values."
   ]
  },
  {
   "cell_type": "code",
   "execution_count": 7,
   "metadata": {},
   "outputs": [
    {
     "data": {
      "text/plain": [
       "City_ID                5\n",
       "City                   5\n",
       "Cloudiness (%)         5\n",
       "Country                5\n",
       "Date                   5\n",
       "Humidity (%)           5\n",
       "Lat                    5\n",
       "Lng                    5\n",
       "Max Temperature (F)    5\n",
       "Wind Speed (mph)       5\n",
       "dtype: int64"
      ]
     },
     "execution_count": 7,
     "metadata": {},
     "output_type": "execute_result"
    }
   ],
   "source": [
    "city_data_narrow=city_data[(city_data[\"Max Temperature (F)\"] < 85) &\n",
    "                             (city_data[\"Max Temperature (F)\"] > 60) &\n",
    "                             (city_data[\"Wind Speed (mph)\"] < 15) &\n",
    "                             (city_data[\"Cloudiness (%)\"] < 30) &\n",
    "                             (city_data[\"Humidity (%)\"] < 30)]\n",
    "city_data_narrow=city_data_narrow.dropna() \n",
    "city_data_narrow.count()"
   ]
  },
  {
   "cell_type": "code",
   "execution_count": 8,
   "metadata": {},
   "outputs": [
    {
     "data": {
      "text/html": [
       "<div>\n",
       "<style scoped>\n",
       "    .dataframe tbody tr th:only-of-type {\n",
       "        vertical-align: middle;\n",
       "    }\n",
       "\n",
       "    .dataframe tbody tr th {\n",
       "        vertical-align: top;\n",
       "    }\n",
       "\n",
       "    .dataframe thead th {\n",
       "        text-align: right;\n",
       "    }\n",
       "</style>\n",
       "<table border=\"1\" class=\"dataframe\">\n",
       "  <thead>\n",
       "    <tr style=\"text-align: right;\">\n",
       "      <th></th>\n",
       "      <th>City_ID</th>\n",
       "      <th>City</th>\n",
       "      <th>Cloudiness (%)</th>\n",
       "      <th>Country</th>\n",
       "      <th>Date</th>\n",
       "      <th>Humidity (%)</th>\n",
       "      <th>Lat</th>\n",
       "      <th>Lng</th>\n",
       "      <th>Max Temperature (F)</th>\n",
       "      <th>Wind Speed (mph)</th>\n",
       "    </tr>\n",
       "  </thead>\n",
       "  <tbody>\n",
       "    <tr>\n",
       "      <th>230</th>\n",
       "      <td>230</td>\n",
       "      <td>moses lake</td>\n",
       "      <td>1</td>\n",
       "      <td>US</td>\n",
       "      <td>1558378804</td>\n",
       "      <td>22</td>\n",
       "      <td>47.13</td>\n",
       "      <td>-119.28</td>\n",
       "      <td>69.80</td>\n",
       "      <td>13.87</td>\n",
       "    </tr>\n",
       "    <tr>\n",
       "      <th>259</th>\n",
       "      <td>259</td>\n",
       "      <td>hami</td>\n",
       "      <td>0</td>\n",
       "      <td>CN</td>\n",
       "      <td>1558378834</td>\n",
       "      <td>11</td>\n",
       "      <td>42.84</td>\n",
       "      <td>93.51</td>\n",
       "      <td>69.72</td>\n",
       "      <td>6.20</td>\n",
       "    </tr>\n",
       "    <tr>\n",
       "      <th>324</th>\n",
       "      <td>324</td>\n",
       "      <td>sidney</td>\n",
       "      <td>1</td>\n",
       "      <td>US</td>\n",
       "      <td>1558378850</td>\n",
       "      <td>26</td>\n",
       "      <td>47.72</td>\n",
       "      <td>-104.16</td>\n",
       "      <td>61.00</td>\n",
       "      <td>14.99</td>\n",
       "    </tr>\n",
       "    <tr>\n",
       "      <th>367</th>\n",
       "      <td>367</td>\n",
       "      <td>pampierstad</td>\n",
       "      <td>0</td>\n",
       "      <td>ZA</td>\n",
       "      <td>1558378859</td>\n",
       "      <td>23</td>\n",
       "      <td>-27.78</td>\n",
       "      <td>24.69</td>\n",
       "      <td>67.02</td>\n",
       "      <td>10.38</td>\n",
       "    </tr>\n",
       "    <tr>\n",
       "      <th>444</th>\n",
       "      <td>444</td>\n",
       "      <td>birjand</td>\n",
       "      <td>0</td>\n",
       "      <td>IR</td>\n",
       "      <td>1558378880</td>\n",
       "      <td>26</td>\n",
       "      <td>32.86</td>\n",
       "      <td>59.22</td>\n",
       "      <td>71.60</td>\n",
       "      <td>9.17</td>\n",
       "    </tr>\n",
       "  </tbody>\n",
       "</table>\n",
       "</div>"
      ],
      "text/plain": [
       "     City_ID         City  Cloudiness (%) Country        Date  Humidity (%)  \\\n",
       "230      230   moses lake               1      US  1558378804            22   \n",
       "259      259         hami               0      CN  1558378834            11   \n",
       "324      324       sidney               1      US  1558378850            26   \n",
       "367      367  pampierstad               0      ZA  1558378859            23   \n",
       "444      444      birjand               0      IR  1558378880            26   \n",
       "\n",
       "       Lat     Lng  Max Temperature (F)  Wind Speed (mph)  \n",
       "230  47.13 -119.28                69.80             13.87  \n",
       "259  42.84   93.51                69.72              6.20  \n",
       "324  47.72 -104.16                61.00             14.99  \n",
       "367 -27.78   24.69                67.02             10.38  \n",
       "444  32.86   59.22                71.60              9.17  "
      ]
     },
     "execution_count": 8,
     "metadata": {},
     "output_type": "execute_result"
    }
   ],
   "source": [
    "city_data_narrow.head()"
   ]
  },
  {
   "cell_type": "markdown",
   "metadata": {},
   "source": [
    "### Hotel Map\n",
    "* Store into variable named `hotel_df`.\n",
    "* Add a \"Hotel Name\" column to the DataFrame.\n",
    "* Set parameters to search for hotels with 5000 meters.\n",
    "* Hit the Google Places API for each city's coordinates.\n",
    "* Store the first Hotel result into the DataFrame.\n",
    "* Plot markers on top of the heatmap."
   ]
  },
  {
   "cell_type": "code",
   "execution_count": 20,
   "metadata": {},
   "outputs": [
    {
     "name": "stdout",
     "output_type": "stream",
     "text": [
      "Beginning Data Retrieval\n",
      "-----------------------------\n",
      "Looking for Hotels near: 230 | Record 1 of Total 5\n",
      "No Hotel Near Location... Skipping...\n",
      "Looking for Hotels near: 259 | Record 2 of Total 5\n",
      "No Hotel Near Location... Skipping...\n",
      "Looking for Hotels near: 324 | Record 3 of Total 5\n",
      "No Hotel Near Location... Skipping...\n",
      "Looking for Hotels near: 367 | Record 4 of Total 5\n",
      "No Hotel Near Location... Skipping...\n",
      "Looking for Hotels near: 444 | Record 5 of Total 5\n",
      "No Hotel Near Location... Skipping...\n",
      "-------------------------------\n",
      "Data Retrieval Complete\n",
      "-------------------------------\n"
     ]
    }
   ],
   "source": [
    "# Set up lists to hold response info:\n",
    "hotel_name=[]         \n",
    "city=[]         \n",
    "country=[]      \n",
    "lat=[]          \n",
    "lng=[]          \n",
    "\n",
    "# Loop through the list of cities and perform a request for data on each and add to corresponding lists:\n",
    "\n",
    "count=1 # set counter to start value 1 for printouts of the current set count\n",
    "\n",
    "print('Beginning Data Retrieval')     \n",
    "print('-----------------------------')\n",
    "for i in range(len(city_data_narrow)) : \n",
    "   \n",
    "    lati=str(city_data_narrow.iloc[i, 3])    \n",
    "    lngi=str(city_data_narrow.iloc[i, 4])\n",
    "    \n",
    "    target_coordinates=lati + ', ' + lngi  \n",
    "    target_search='Hotel'\n",
    "    target_radius=5000\n",
    "    target_type='lodging'\n",
    "\n",
    "    # Set up a parameters dictionary:\n",
    "    params={\n",
    "        'location': target_coordinates,\n",
    "        'keyword': target_search,\n",
    "        'radius': target_radius,\n",
    "        'type': target_type,\n",
    "        'key': g_key\n",
    "    }\n",
    "\n",
    "    # Base url:\n",
    "    base_url='https://maps.googleapis.com/maps/api/place/nearbysearch/json'\n",
    "\n",
    "    # Run a request using the above params dictionary:\n",
    "    response=requests.get(base_url, params=params)\n",
    "    #print(response.url)\n",
    "    \n",
    "    # Convert response to json:\n",
    "    places_data=response.json()\n",
    "    #print(json.dumps(places_data, indent=4, sort_keys=True))\n",
    "    \n",
    "    # Print user feedback: \n",
    "    print('Looking for Hotels near: ' + str(city_data_narrow.iloc[i, 0]) + ' | Record ' + str(count) + ' of Total ' + str(len(city_data_narrow)))\n",
    "     \n",
    "    # Add requested data to  result lists:\n",
    "    try:                                             # ignore errors in response\n",
    "        name.append(places_data['results'][0]['name'])\n",
    "        city.append(city_data_narrow.iloc[i, 0])\n",
    "        country.append(city_data_narrow.iloc[i, 1])\n",
    "        lat.append(places_data['results'][0]['geometry']['location']['lat'])\n",
    "        lng.append(places_data['results'][0]['geometry']['location']['lng'])\n",
    "    except IndexError:\n",
    "        print('No Hotel Near Location... Skipping...') # in case one of the responses comes back with error \"IndexError\"\n",
    "                                                           # which could be no hotel near location \n",
    "  \n",
    "    count=count+1\n",
    "    \n",
    "# Print Ending Log Statement:\n",
    "print('-------------------------------')\n",
    "print('Data Retrieval Complete')\n",
    "print('-------------------------------')"
   ]
  },
  {
   "cell_type": "code",
   "execution_count": 21,
   "metadata": {},
   "outputs": [
    {
     "data": {
      "text/plain": [
       "City          0\n",
       "Country       0\n",
       "Lat           0\n",
       "Lng           0\n",
       "Hotel Name    0\n",
       "dtype: int64"
      ]
     },
     "execution_count": 21,
     "metadata": {},
     "output_type": "execute_result"
    }
   ],
   "source": [
    "hotel_dict={\n",
    "    'City': city,\n",
    "    'Country': country,\n",
    "    'Lat': lat,\n",
    "    'Lng': lng,\n",
    "    'Hotel Name': hotel_name\n",
    "}\n",
    "hotel_df=pd.DataFrame(hotel_dict)\n",
    "hotel_df.count()"
   ]
  },
  {
   "cell_type": "code",
   "execution_count": 22,
   "metadata": {},
   "outputs": [
    {
     "data": {
      "text/html": [
       "<div>\n",
       "<style scoped>\n",
       "    .dataframe tbody tr th:only-of-type {\n",
       "        vertical-align: middle;\n",
       "    }\n",
       "\n",
       "    .dataframe tbody tr th {\n",
       "        vertical-align: top;\n",
       "    }\n",
       "\n",
       "    .dataframe thead th {\n",
       "        text-align: right;\n",
       "    }\n",
       "</style>\n",
       "<table border=\"1\" class=\"dataframe\">\n",
       "  <thead>\n",
       "    <tr style=\"text-align: right;\">\n",
       "      <th></th>\n",
       "      <th>City</th>\n",
       "      <th>Country</th>\n",
       "      <th>Lat</th>\n",
       "      <th>Lng</th>\n",
       "      <th>Hotel Name</th>\n",
       "    </tr>\n",
       "  </thead>\n",
       "  <tbody>\n",
       "  </tbody>\n",
       "</table>\n",
       "</div>"
      ],
      "text/plain": [
       "Empty DataFrame\n",
       "Columns: [City, Country, Lat, Lng, Hotel Name]\n",
       "Index: []"
      ]
     },
     "execution_count": 22,
     "metadata": {},
     "output_type": "execute_result"
    }
   ],
   "source": [
    "hotel_df.head()"
   ]
  },
  {
   "cell_type": "code",
   "execution_count": 24,
   "metadata": {},
   "outputs": [],
   "source": [
    "# NOTE: Do not change any of the code in this cell\n",
    "\n",
    "# Using the template add the hotel marks to the heatmap\n",
    "info_box_template = \"\"\"\n",
    "<dl>\n",
    "<dt>Name</dt><dd>{Hotel Name}</dd>\n",
    "<dt>City</dt><dd>{City}</dd>\n",
    "<dt>Country</dt><dd>{Country}</dd>\n",
    "</dl>\n",
    "\"\"\"\n",
    "# Store the DataFrame Row\n",
    "# NOTE: be sure to update with your DataFrame name\n",
    "hotel_info = [info_box_template.format(**row) for index, row in hotel_df.iterrows()]\n",
    "locations = hotel_df[[\"Lat\", \"Lng\"]]"
   ]
  },
  {
   "cell_type": "code",
   "execution_count": 26,
   "metadata": {},
   "outputs": [
    {
     "data": {
      "application/vnd.jupyter.widget-view+json": {
       "model_id": "80c5c9378988428a873d43a640a454a5",
       "version_major": 2,
       "version_minor": 0
      },
      "text/plain": [
       "Figure(layout=FigureLayout(height='420px'))"
      ]
     },
     "metadata": {},
     "output_type": "display_data"
    }
   ],
   "source": [
    "figure_layout={\n",
    "    'width': '955px',\n",
    "    'height': '600px',\n",
    "    'border': '1px solid black',\n",
    "    'padding': '1px',\n",
    "    'margin': '0 auto 0 auto'\n",
    "}\n",
    "fig=gmaps.figure(layout=figure_layout)\n",
    "\n",
    "# Add marker layer ontop of heat map\n",
    "markers=gmaps.marker_layer(locations, info_box_content=hotel_info)\n",
    "\n",
    "# Display figure\n",
    "fig.add_layer(markers)\n",
    "fig\n",
    "\n",
    "fig=gmaps.figure()\n",
    "\n",
    "fig.add_layer(heat_layer)\n",
    "fig.add_layer(markers)\n",
    "\n",
    "fig"
   ]
  },
  {
   "cell_type": "code",
   "execution_count": null,
   "metadata": {},
   "outputs": [],
   "source": []
  }
 ],
 "metadata": {
  "kernelspec": {
   "display_name": "Python [conda env:PythonData]",
   "language": "python",
   "name": "conda-env-PythonData-py"
  },
  "language_info": {
   "codemirror_mode": {
    "name": "ipython",
    "version": 3
   },
   "file_extension": ".py",
   "mimetype": "text/x-python",
   "name": "python",
   "nbconvert_exporter": "python",
   "pygments_lexer": "ipython3",
   "version": "3.6.10"
  },
  "latex_envs": {
   "LaTeX_envs_menu_present": true,
   "autoclose": false,
   "autocomplete": true,
   "bibliofile": "biblio.bib",
   "cite_by": "apalike",
   "current_citInitial": 1,
   "eqLabelWithNumbers": true,
   "eqNumInitial": 1,
   "hotkeys": {
    "equation": "Ctrl-E",
    "itemize": "Ctrl-I"
   },
   "labels_anchors": false,
   "latex_user_defs": false,
   "report_style_numbering": false,
   "user_envs_cfg": false
  }
 },
 "nbformat": 4,
 "nbformat_minor": 4
}
